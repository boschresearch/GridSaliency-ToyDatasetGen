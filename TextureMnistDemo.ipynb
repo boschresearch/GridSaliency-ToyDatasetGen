{
 "cells": [
  {
   "cell_type": "code",
   "execution_count": null,
   "metadata": {},
   "outputs": [],
   "source": [
    "%load_ext autoreload\n",
    "%autoreload 2"
   ]
  },
  {
   "cell_type": "code",
   "execution_count": null,
   "metadata": {},
   "outputs": [],
   "source": [
    "import numpy as np\n",
    "from matplotlib import pyplot as plt\n",
    "from mnist_generators_simple import gen_texture_mnist"
   ]
  },
  {
   "cell_type": "code",
   "execution_count": null,
   "metadata": {},
   "outputs": [],
   "source": [
    "unbiased_config = {\n",
    "    'background_split': 2,\n",
    "    'dataset_seed': 0,\n",
    "    'tex_res' : 400,\n",
    "    'tile_size' : 64,\n",
    "    'train_samples' : 50000,\n",
    "    'test_samples' : 1000,\n",
    "    'exclude_bias_textures': False,\n",
    "    'fix_test_set': True,\n",
    "    'batch_size': 100,\n",
    "    'bias': None,\n",
    "    'textures_path' : 'textures/',\n",
    "}\n",
    "biased_config = {\n",
    "    'background_split': 2,\n",
    "    'dataset_seed': 0,\n",
    "    'tex_res' : 400,\n",
    "    'tile_size' : 64,\n",
    "    'train_samples' : 50000,\n",
    "    'test_samples' : 1000,\n",
    "    'exclude_bias_textures': True,\n",
    "    'fix_test_set': True,\n",
    "    'batch_size': 100,\n",
    "    'bias': {2 : {\n",
    "        \"source_1_id\": \"'feeccd96.png\", \n",
    "        \"source_2_id\": \"'f135d029.png\",\n",
    "        \"source_1_bias\": 0.0,\n",
    "        \"source_2_bias\": 1.0\n",
    "    }},\n",
    "    'textures_path' : 'textures/',\n",
    "}"
   ]
  },
  {
   "cell_type": "code",
   "execution_count": null,
   "metadata": {},
   "outputs": [],
   "source": [
    "def hide_ticks(ax):\n",
    "    plt.setp(ax.get_xticklabels(), visible=False)\n",
    "    plt.setp(ax.get_yticklabels(), visible=False)\n",
    "    ax.tick_params(axis='both', which='both', length=0)\n",
    "    \n",
    "def plot_samples(sample_generator, num_samples):\n",
    "    i = 0\n",
    "    for xs,ys,masks in sample_generator:\n",
    "        for x,y,m in zip(xs,ys,masks):\n",
    "            f,ax = plt.subplots(1,4)\n",
    "            ax[0].imshow(x[...,0], cmap='gray')\n",
    "            ax[0].set_title('Image')\n",
    "            hide_ticks(ax[0])\n",
    "            ax[1].imshow(np.argmax(y,-1), cmap='tab20',vmin=0,vmax=10)\n",
    "            ax[1].set_title('Segmentation')\n",
    "            hide_ticks(ax[1])\n",
    "            ax[2].imshow(m['background'][...,0], cmap='gray',vmin=0,vmax=1)\n",
    "            ax[2].set_title('Background')\n",
    "            hide_ticks(ax[2])\n",
    "            ax[3].imshow(m['biased_tile'][...,0], cmap='gray',vmin=0,vmax=1)\n",
    "            ax[3].set_title('Biased Tile')\n",
    "            hide_ticks(ax[3])\n",
    "            plt.show()\n",
    "\n",
    "            i+=1\n",
    "            if i >= num_samples: \n",
    "                break\n",
    "        if i >= num_samples:\n",
    "            break\n",
    "\n",
    "NUM_SAMPLES = 20  \n",
    "\n",
    "print('Biased Test Set')\n",
    "sample_generator = gen_texture_mnist(biased_config,'test')\n",
    "plot_samples(sample_generator, NUM_SAMPLES)\n",
    "\n",
    "print('Unbiased Test Set')\n",
    "sample_generator = gen_texture_mnist(unbiased_config,'test')\n",
    "plot_samples(sample_generator, NUM_SAMPLES)"
   ]
  },
  {
   "cell_type": "code",
   "execution_count": null,
   "metadata": {},
   "outputs": [],
   "source": []
  }
 ],
 "metadata": {
  "kernelspec": {
   "display_name": "Python 3",
   "language": "python",
   "name": "python3"
  },
  "language_info": {
   "codemirror_mode": {
    "name": "ipython",
    "version": 3
   },
   "file_extension": ".py",
   "mimetype": "text/x-python",
   "name": "python",
   "nbconvert_exporter": "python",
   "pygments_lexer": "ipython3",
   "version": "3.6.6"
  }
 },
 "nbformat": 4,
 "nbformat_minor": 2
}
